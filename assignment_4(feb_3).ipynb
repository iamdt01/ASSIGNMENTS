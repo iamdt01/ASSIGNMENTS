{
 "cells": [
  {
   "cell_type": "markdown",
   "id": "2cfe4b9a-ed19-4867-a13c-c3fe99631781",
   "metadata": {},
   "source": [
    "# Q1. Which keyword is used to create a function? Create a function to return a list of odd numbers in the range of 1 to 25."
   ]
  },
  {
   "cell_type": "raw",
   "id": "a3e21c59-6ede-4d3d-bf87-1439c44d944b",
   "metadata": {},
   "source": [
    "def key word is used to create a function."
   ]
  },
  {
   "cell_type": "code",
   "execution_count": 3,
   "id": "656490ed-84ec-4120-ac06-e79b902c2c20",
   "metadata": {},
   "outputs": [],
   "source": [
    "def qs1():\n",
    "    l =[]\n",
    "    for i in range(1,25,2):\n",
    "        l.append(i)\n",
    "    return l"
   ]
  },
  {
   "cell_type": "code",
   "execution_count": 4,
   "id": "3bdf4a2d-d42d-49b1-96b4-03f6440a5582",
   "metadata": {},
   "outputs": [
    {
     "data": {
      "text/plain": [
       "[1, 3, 5, 7, 9, 11, 13, 15, 17, 19, 21, 23]"
      ]
     },
     "execution_count": 4,
     "metadata": {},
     "output_type": "execute_result"
    }
   ],
   "source": [
    "qs1()"
   ]
  },
  {
   "cell_type": "markdown",
   "id": "10959063-51f1-4510-ab02-4c041cf944ef",
   "metadata": {},
   "source": [
    "# Q2. Why *args and **kwargs is used in some functions? Create a function each for *args and **kwargs to demonstrate their use."
   ]
  },
  {
   "cell_type": "raw",
   "id": "1442de9b-cba8-4237-b911-e4c8ac57d5e2",
   "metadata": {},
   "source": [
    "In \"*args\",\"*\" is used for multiple parameters which can be passed in a function and \"args\" is a type of variable which is used to return the value.When we are unsure about the number of arguments to pass in the functions. It returns in tuple.\n",
    "In \"**kwargs\" ,**kwargs allows us to pass a variable number of keyword arguments to a Python function.When we are unsure about the number of arguments to pass in the functions.It returns in dictionary."
   ]
  },
  {
   "cell_type": "code",
   "execution_count": 5,
   "id": "073ae0ef-33de-4e8a-bc71-5eb09f4dc813",
   "metadata": {},
   "outputs": [],
   "source": [
    "def qs2_1(*args):\n",
    "    return args"
   ]
  },
  {
   "cell_type": "code",
   "execution_count": 6,
   "id": "27bf351f-f080-46b3-8b25-bb16e66757f0",
   "metadata": {},
   "outputs": [
    {
     "data": {
      "text/plain": [
       "(12, 23, 34)"
      ]
     },
     "execution_count": 6,
     "metadata": {},
     "output_type": "execute_result"
    }
   ],
   "source": [
    "qs2_1(12,23,34)"
   ]
  },
  {
   "cell_type": "code",
   "execution_count": 7,
   "id": "ca7aaf70-e40b-4ced-8209-6ac0007daf67",
   "metadata": {},
   "outputs": [],
   "source": [
    "def qs2_2(**kwargs):\n",
    "    return kwargs"
   ]
  },
  {
   "cell_type": "code",
   "execution_count": 12,
   "id": "4b1416fd-efc0-451a-b608-32dd26355961",
   "metadata": {},
   "outputs": [
    {
     "data": {
      "text/plain": [
       "{'dt': 123, 'abc': 2530}"
      ]
     },
     "execution_count": 12,
     "metadata": {},
     "output_type": "execute_result"
    }
   ],
   "source": [
    "qs2_2(dt=123,abc=2530)"
   ]
  },
  {
   "cell_type": "markdown",
   "id": "ae20f143-abaf-4e3d-838b-752696231d1e",
   "metadata": {},
   "source": [
    "# Q3. What is an iterator in python? Name the method used to initialise the iterator object and the method used for iteration. Use these methods to print the first five elements of the given list [2, 4, 6, 8, 10, 12, 14, 16, 18, 20]."
   ]
  },
  {
   "cell_type": "raw",
   "id": "1028057f-a742-44a5-a669-5f60a5a76eba",
   "metadata": {},
   "source": [
    "Iterator in python is an object which can be traversed through all its values/ the values can be iterated upon."
   ]
  },
  {
   "cell_type": "raw",
   "id": "fa7325a8-600c-4704-9f71-28e5d2670a7e",
   "metadata": {},
   "source": [
    "The method used to initialise the iterator object is iter().\n",
    "The method used for iteration is next()."
   ]
  },
  {
   "cell_type": "code",
   "execution_count": 15,
   "id": "d509a5d2-c593-463e-b72c-19837d40b8fc",
   "metadata": {},
   "outputs": [
    {
     "name": "stdout",
     "output_type": "stream",
     "text": [
      "2 4 6 8 10 "
     ]
    }
   ],
   "source": [
    "a = iter([2,4,6,8,10,12,14,16,18,20])\n",
    "for i in range(5):\n",
    "    print(next(a),end=\" \")"
   ]
  },
  {
   "cell_type": "markdown",
   "id": "19486006-ec81-423b-9728-7fc747ce9c3d",
   "metadata": {},
   "source": [
    "# Q4. What is a generator function in python? Why yield keyword is used? Give an example of a generator function."
   ]
  },
  {
   "cell_type": "raw",
   "id": "caf79ef2-d375-4a7e-a7dd-28f836905209",
   "metadata": {},
   "source": [
    "To reduce memory consumption we can use generator function. Generator functions are useful when we want to produce a large sequence of values, but we don't want to store all of them in memory at once."
   ]
  },
  {
   "cell_type": "raw",
   "id": "8b1d8856-ffed-4727-ad3a-b2d85cb75652",
   "metadata": {},
   "source": [
    "Yield keyword is used in case of generator function, it functions similar to return."
   ]
  },
  {
   "cell_type": "code",
   "execution_count": 18,
   "id": "154d37b7-3e91-44f0-b704-688f2aae402c",
   "metadata": {},
   "outputs": [
    {
     "name": "stdout",
     "output_type": "stream",
     "text": [
      "0 1 1 2 3 5 8 13 21 34 "
     ]
    }
   ],
   "source": [
    "def qs4(n):\n",
    "    a,b = 0,1\n",
    "    for i in range(n):\n",
    "        yield a\n",
    "        a,b = b,a+b\n",
    "qs4(10)\n",
    "for i in qs4(10):\n",
    "    print(i,end=\" \")"
   ]
  },
  {
   "cell_type": "markdown",
   "id": "a1166ad1-9237-4825-9ad6-ed183bd920db",
   "metadata": {},
   "source": [
    "# Q5. Create a generator function for prime numbers less than 1000. Use the next() method to print the first 20 prime numbers."
   ]
  },
  {
   "cell_type": "code",
   "execution_count": 34,
   "id": "8e5ddd54-fddd-4cb6-a975-508cc4c41e0d",
   "metadata": {},
   "outputs": [
    {
     "data": {
      "text/plain": [
       "<generator object qs5 at 0x7f39680dae30>"
      ]
     },
     "execution_count": 34,
     "metadata": {},
     "output_type": "execute_result"
    }
   ],
   "source": [
    "def qs5():\n",
    "    x=False\n",
    "    for j in range(2,1000):\n",
    "        for i in range(2,j):\n",
    "            if (j % i) == 0:\n",
    "                break\n",
    "        else:\n",
    "            yield j\n",
    "qs5()"
   ]
  },
  {
   "cell_type": "code",
   "execution_count": 36,
   "id": "f79b529e-e3e1-4c0d-8087-bbd59a9f037b",
   "metadata": {},
   "outputs": [
    {
     "name": "stdout",
     "output_type": "stream",
     "text": [
      "2 3 5 7 11 13 17 19 23 29 31 37 41 43 47 53 59 61 67 71 "
     ]
    }
   ],
   "source": [
    "pr = qs5()\n",
    "for i in range(20):\n",
    "    print(next(pr),end=\" \")"
   ]
  },
  {
   "cell_type": "markdown",
   "id": "19180ae1-7797-43db-aa3d-e7d02f6c0f84",
   "metadata": {},
   "source": [
    "# Q6. Write a python program to print the first 10 Fibonacci numbers using a while loop."
   ]
  },
  {
   "cell_type": "code",
   "execution_count": 39,
   "id": "0c44051a-f57b-4906-98a8-fae8df4a05da",
   "metadata": {},
   "outputs": [
    {
     "name": "stdout",
     "output_type": "stream",
     "text": [
      "0 1 1 2 3 5 8 13 21 34 "
     ]
    }
   ],
   "source": [
    "a,b,count=0,1,0\n",
    "while count<10:\n",
    "    print(a ,end =\" \")\n",
    "    a,b=b,a+b\n",
    "    count+=1"
   ]
  },
  {
   "cell_type": "markdown",
   "id": "bc7561bc-2f8e-4bec-95d6-40a51437a018",
   "metadata": {},
   "source": [
    "# Q7. Write a List Comprehension to iterate through the given string: ‘pwskills’. Expected output: ['p', 'w', 's', 'k', 'i', 'l', 'l', 's']"
   ]
  },
  {
   "cell_type": "code",
   "execution_count": 40,
   "id": "9cb2ecbe-04a8-40df-b03d-fad6f5d03597",
   "metadata": {},
   "outputs": [
    {
     "data": {
      "text/plain": [
       "['p', 'w', 's', 'k', 'i', 'l', 'l', 's']"
      ]
     },
     "execution_count": 40,
     "metadata": {},
     "output_type": "execute_result"
    }
   ],
   "source": [
    "l=[i for i in \"pwskills\"]\n",
    "l"
   ]
  },
  {
   "cell_type": "markdown",
   "id": "fc476591-fa18-47af-8566-f244a5399b0a",
   "metadata": {},
   "source": [
    "# Q8. Write a python program to check whether a given number is Palindrome or not using a while loop."
   ]
  },
  {
   "cell_type": "code",
   "execution_count": 49,
   "id": "c7dc1034-cbed-427f-b100-e25eebd84d24",
   "metadata": {},
   "outputs": [
    {
     "name": "stdin",
     "output_type": "stream",
     "text": [
      "Enter a number =  2442\n"
     ]
    },
    {
     "name": "stdout",
     "output_type": "stream",
     "text": [
      "The number 2442 is a pallidromic number\n"
     ]
    }
   ],
   "source": [
    "num = (int)(input(\"Enter a number = \"))\n",
    "x= num\n",
    "d,s=0,0\n",
    "while(num>0):\n",
    "    d=num%10\n",
    "    s=(s*10)+d\n",
    "    num=num//10\n",
    "if x==s:\n",
    "    print(\"The number\",x,\"is a pallidromic number\")\n",
    "else:\n",
    "    print(\"Not a pallindrome number\")"
   ]
  },
  {
   "cell_type": "markdown",
   "id": "6702a06b-3cdb-4412-bbfc-0ae8b4ba7bc0",
   "metadata": {},
   "source": [
    "# Q9. Write a code to print odd numbers from 1 to 100 using list comprehension."
   ]
  },
  {
   "cell_type": "code",
   "execution_count": 50,
   "id": "76074951-ce2b-424c-8ec0-05297ae6809e",
   "metadata": {},
   "outputs": [
    {
     "data": {
      "text/plain": [
       "[1,\n",
       " 3,\n",
       " 5,\n",
       " 7,\n",
       " 9,\n",
       " 11,\n",
       " 13,\n",
       " 15,\n",
       " 17,\n",
       " 19,\n",
       " 21,\n",
       " 23,\n",
       " 25,\n",
       " 27,\n",
       " 29,\n",
       " 31,\n",
       " 33,\n",
       " 35,\n",
       " 37,\n",
       " 39,\n",
       " 41,\n",
       " 43,\n",
       " 45,\n",
       " 47,\n",
       " 49,\n",
       " 51,\n",
       " 53,\n",
       " 55,\n",
       " 57,\n",
       " 59,\n",
       " 61,\n",
       " 63,\n",
       " 65,\n",
       " 67,\n",
       " 69,\n",
       " 71,\n",
       " 73,\n",
       " 75,\n",
       " 77,\n",
       " 79,\n",
       " 81,\n",
       " 83,\n",
       " 85,\n",
       " 87,\n",
       " 89,\n",
       " 91,\n",
       " 93,\n",
       " 95,\n",
       " 97,\n",
       " 99]"
      ]
     },
     "execution_count": 50,
     "metadata": {},
     "output_type": "execute_result"
    }
   ],
   "source": [
    "l=[i for i in range(1,100,2)]\n",
    "l"
   ]
  }
 ],
 "metadata": {
  "kernelspec": {
   "display_name": "Python 3 (ipykernel)",
   "language": "python",
   "name": "python3"
  },
  "language_info": {
   "codemirror_mode": {
    "name": "ipython",
    "version": 3
   },
   "file_extension": ".py",
   "mimetype": "text/x-python",
   "name": "python",
   "nbconvert_exporter": "python",
   "pygments_lexer": "ipython3",
   "version": "3.10.8"
  }
 },
 "nbformat": 4,
 "nbformat_minor": 5
}
