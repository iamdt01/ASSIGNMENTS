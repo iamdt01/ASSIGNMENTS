{
 "cells": [
  {
   "cell_type": "markdown",
   "id": "df1f47ac-1c8a-4fa1-8c04-e17e7877b8a4",
   "metadata": {},
   "source": [
    "# Q1. Explain with an example each when to use a for loop and a while loop."
   ]
  },
  {
   "cell_type": "code",
   "execution_count": 1,
   "id": "0b9047a2-e455-4b56-934c-c38b9802182f",
   "metadata": {},
   "outputs": [
    {
     "name": "stdout",
     "output_type": "stream",
     "text": [
      "0\n",
      "1\n",
      "2\n",
      "3\n",
      "4\n",
      "5\n"
     ]
    }
   ],
   "source": [
    "#for loop\n",
    "for i in range(0,6):\n",
    "    print(i)"
   ]
  },
  {
   "cell_type": "code",
   "execution_count": 2,
   "id": "ef0b48f1-d455-44d9-8e78-ed097a6b6959",
   "metadata": {},
   "outputs": [
    {
     "name": "stdout",
     "output_type": "stream",
     "text": [
      "0\n",
      "1\n",
      "2\n",
      "3\n",
      "4\n",
      "5\n"
     ]
    }
   ],
   "source": [
    "#while loop\n",
    "i=0\n",
    "while i<6:\n",
    "    print(i)\n",
    "    i+=1"
   ]
  },
  {
   "cell_type": "markdown",
   "id": "773ccf24-9c29-4f3b-840f-59e593eca816",
   "metadata": {},
   "source": [
    "# Q2. Write a python program to print the sum and product of the first 10 natural numbers using for and while loop."
   ]
  },
  {
   "cell_type": "code",
   "execution_count": 3,
   "id": "169e5078-27b7-4b35-8d47-120b122965b1",
   "metadata": {},
   "outputs": [
    {
     "name": "stdout",
     "output_type": "stream",
     "text": [
      "The sum is =  55\n",
      "The product is =  3628800\n"
     ]
    }
   ],
   "source": [
    "#for loop\n",
    "res = 0\n",
    "pro = 1\n",
    "for i in range(1,11):\n",
    "    res +=i\n",
    "    pro *=i\n",
    "print(\"The sum is = \",res)\n",
    "print(\"The product is = \",pro)"
   ]
  },
  {
   "cell_type": "code",
   "execution_count": 4,
   "id": "470e2131-4618-4695-9bdd-0e52e03ef90e",
   "metadata": {},
   "outputs": [
    {
     "name": "stdout",
     "output_type": "stream",
     "text": [
      "The sum is =  55\n",
      "The product is =  3628800\n"
     ]
    }
   ],
   "source": [
    "#while loop\n",
    "res = 0\n",
    "pro = 1\n",
    "i=1\n",
    "while i < 11:\n",
    "    res += i\n",
    "    pro *= i\n",
    "    i += 1\n",
    "print(\"The sum is = \",res)\n",
    "print(\"The product is = \",pro)"
   ]
  },
  {
   "cell_type": "markdown",
   "id": "e0bce9a5-6a5b-4c9e-bfb1-d2d41403c18f",
   "metadata": {},
   "source": [
    "# Q3. Create a python program to compute the electricity bill for a household.\n",
    "# The per-unit charges in rupees are as follows: For the first 100 units, the user will be charged Rs. 4.5 per unit, for the next 100 units, the user will be charged Rs. 6 per unit, and for the next 100 units, the user will be charged Rs. 10 per unit, After 300 units and above the user will be charged Rs. 20 per unit. You are required to take the units of electricity consumed in a month from the user as input. Your program must pass this test case: when the unit of electricity consumed by the user in a month is 310, the total electricity bill should be 2250."
   ]
  },
  {
   "cell_type": "code",
   "execution_count": 5,
   "id": "ca5bdf0b-1a9f-41b7-8f20-eaceef135da5",
   "metadata": {},
   "outputs": [
    {
     "name": "stdin",
     "output_type": "stream",
     "text": [
      "Enter the units =  310\n"
     ]
    },
    {
     "name": "stdout",
     "output_type": "stream",
     "text": [
      "The total electricity bill is =  2250\n"
     ]
    }
   ],
   "source": [
    "unit = (int)(input(\"Enter the units = \"))\n",
    "price = 0 \n",
    "if unit <= 100:\n",
    "    price = unit*4.5\n",
    "elif unit>100 and (unit-100)<=100:\n",
    "    price = 450+(unit-100)*6\n",
    "elif unit > 200 and (unit-200)<=100:\n",
    "    price = 450+600+(unit-200)*10\n",
    "elif unit>300:\n",
    "    price = 450+600+1000+(unit-300)*20\n",
    "else:\n",
    "    print(\"Enter a valid unit value\")\n",
    "print(\"The total electricity bill is = \",price)"
   ]
  },
  {
   "cell_type": "markdown",
   "id": "3744b8f2-e581-42d2-baa3-f77091199120",
   "metadata": {},
   "source": [
    "# Q4. Create a list of numbers from 1 to 100. Use for loop and while loop to calculate the cube of each number and if the cube of that number is divisible by 4 or 5 then append that number in a list and print that list."
   ]
  },
  {
   "cell_type": "code",
   "execution_count": 6,
   "id": "746a596e-a8ef-41d0-b418-13060538da86",
   "metadata": {},
   "outputs": [],
   "source": [
    "l = list(range(1,101))\n",
    "l2 = []\n",
    "l3 = []"
   ]
  },
  {
   "cell_type": "code",
   "execution_count": 7,
   "id": "391f73bb-1a64-42ab-89c7-72ab4a72b64b",
   "metadata": {},
   "outputs": [
    {
     "name": "stdout",
     "output_type": "stream",
     "text": [
      "[2, 4, 5, 6, 8, 10, 12, 14, 15, 16, 18, 20, 22, 24, 25, 26, 28, 30, 32, 34, 35, 36, 38, 40, 42, 44, 45, 46, 48, 50, 52, 54, 55, 56, 58, 60, 62, 64, 65, 66, 68, 70, 72, 74, 75, 76, 78, 80, 82, 84, 85, 86, 88, 90, 92, 94, 95, 96, 98, 100]\n"
     ]
    }
   ],
   "source": [
    "#for loop\n",
    "for i in l:\n",
    "    if (i**3)%4 == 0 or (i**3)%5 == 0 :\n",
    "        l2.append(i)\n",
    "print(l2)"
   ]
  },
  {
   "cell_type": "code",
   "execution_count": 8,
   "id": "5ac694e4-01de-45c3-afeb-87f2600145f1",
   "metadata": {},
   "outputs": [
    {
     "name": "stdout",
     "output_type": "stream",
     "text": [
      "[2, 4, 5, 6, 8, 10, 12, 14, 15, 16, 18, 20, 22, 24, 25, 26, 28, 30, 32, 34, 35, 36, 38, 40, 42, 44, 45, 46, 48, 50, 52, 54, 55, 56, 58, 60, 62, 64, 65, 66, 68, 70, 72, 74, 75, 76, 78, 80, 82, 84, 85, 86, 88, 90, 92, 94, 95, 96, 98, 100]\n"
     ]
    }
   ],
   "source": [
    "#while loop\n",
    "i=0\n",
    "while l[i]<= l[-1]:\n",
    "    if (l[i]**3)%4 == 0 or (l[i]**3)%5 == 0 :\n",
    "        l3.append(l[i])\n",
    "    i+=1\n",
    "    if i == 100:\n",
    "        break\n",
    "print(l3)"
   ]
  },
  {
   "cell_type": "markdown",
   "id": "03210fe1-12aa-461b-8045-411eeac0f379",
   "metadata": {},
   "source": [
    "# Q5. Write a program to filter count vowels in the below-given string. string = \"I want to become a data scientist\""
   ]
  },
  {
   "cell_type": "code",
   "execution_count": 9,
   "id": "77f58885-5784-41fd-847d-aff252be345e",
   "metadata": {},
   "outputs": [
    {
     "name": "stdout",
     "output_type": "stream",
     "text": [
      "12\n"
     ]
    }
   ],
   "source": [
    "string = \"I want to become a data scientist\"\n",
    "count = 0\n",
    "for i in string:\n",
    "    if i.lower() in ['a','e','i','o','u']:\n",
    "        count+=1\n",
    "print(count)"
   ]
  }
 ],
 "metadata": {
  "kernelspec": {
   "display_name": "Python 3 (ipykernel)",
   "language": "python",
   "name": "python3"
  },
  "language_info": {
   "codemirror_mode": {
    "name": "ipython",
    "version": 3
   },
   "file_extension": ".py",
   "mimetype": "text/x-python",
   "name": "python",
   "nbconvert_exporter": "python",
   "pygments_lexer": "ipython3",
   "version": "3.10.8"
  }
 },
 "nbformat": 4,
 "nbformat_minor": 5
}
