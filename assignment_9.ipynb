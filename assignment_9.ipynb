{
 "cells": [
  {
   "cell_type": "markdown",
   "id": "651a0f0f-2072-4e34-842c-46ef63a53eb0",
   "metadata": {},
   "source": [
    "# Q1. What is Abstraction in OOps? Explain with an example."
   ]
  },
  {
   "cell_type": "markdown",
   "id": "53479943-f33d-4f43-bf2b-ab7d320dbe76",
   "metadata": {},
   "source": [
    "Abstraction is the process of hiding the internal details of an application from the outer world."
   ]
  },
  {
   "cell_type": "code",
   "execution_count": 13,
   "id": "3ba03846-b9cb-4ca7-9867-2426821d4a45",
   "metadata": {},
   "outputs": [
    {
     "name": "stdout",
     "output_type": "stream",
     "text": [
      "Triangle has 3 sides\n",
      "Square have 4 sides\n"
     ]
    }
   ],
   "source": [
    "from abc import ABC  \n",
    "  \n",
    "class Polygon(ABC):   \n",
    "    def sides(self):   \n",
    "        pass\n",
    "class Triangle(Polygon):   \n",
    "    def sides(self):   \n",
    "        print(\"Triangle has 3 sides\")   \n",
    "class Pentagon(Polygon):    \n",
    "    def sides(self):   \n",
    "        print(\"Pentagon has 5 sides\")   \n",
    "class Hexagon(Polygon):   \n",
    "    def sides(self):   \n",
    "        print(\"Hexagon has 6 sides\")   \n",
    "class square(Polygon):   \n",
    "    def sides(self):   \n",
    "        print(\"Square have 4 sides\")\n",
    "\n",
    "obj1 = Triangle()\n",
    "obj2 = square()\n",
    "obj1.sides()\n",
    "obj2.sides()"
   ]
  },
  {
   "cell_type": "markdown",
   "id": "c998d85f-5cd1-4b6e-96fe-971e14c02441",
   "metadata": {},
   "source": [
    "# Q2. Differentiate between Abstraction and Encapsulation. Explain with an example."
   ]
  },
  {
   "cell_type": "markdown",
   "id": "8d9aecb6-55c4-4b33-8fcb-7d7f2779b7cf",
   "metadata": {},
   "source": [
    "Encapsulation is defined as the wrapping up of data under a single unit. It is the mechanism that binds together code and the data it manipulates.\n",
    "Abstarction is the process of hiding the internal details of an application from the outer world."
   ]
  },
  {
   "cell_type": "code",
   "execution_count": 14,
   "id": "89a09114-2380-4a4f-9e43-5a583f79bac3",
   "metadata": {},
   "outputs": [
    {
     "name": "stdout",
     "output_type": "stream",
     "text": [
      "Triangle has 3 sides\n",
      "Square have 4 sides\n"
     ]
    }
   ],
   "source": [
    "#Abstraction\n",
    "from abc import ABC  \n",
    "  \n",
    "class Polygon(ABC):   \n",
    "    def sides(self):   \n",
    "        pass\n",
    "class Triangle(Polygon):   \n",
    "    def sides(self):   \n",
    "        print(\"Triangle has 3 sides\")   \n",
    "class Pentagon(Polygon):    \n",
    "    def sides(self):   \n",
    "        print(\"Pentagon has 5 sides\")   \n",
    "class Hexagon(Polygon):   \n",
    "    def sides(self):   \n",
    "        print(\"Hexagon has 6 sides\")   \n",
    "class square(Polygon):   \n",
    "    def sides(self):   \n",
    "        print(\"Square have 4 sides\")\n",
    "\n",
    "obj1 = Triangle()\n",
    "obj2 = square()\n",
    "obj1.sides()\n",
    "obj2.sides()"
   ]
  },
  {
   "cell_type": "code",
   "execution_count": 11,
   "id": "2ba98f8a-d852-4499-ae2d-910bbaf91ff8",
   "metadata": {},
   "outputs": [
    {
     "data": {
      "text/plain": [
       "0"
      ]
     },
     "execution_count": 11,
     "metadata": {},
     "output_type": "execute_result"
    }
   ],
   "source": [
    "#encapsulation\n",
    "class car:\n",
    "    def __init__(self,year, make,model,speed):\n",
    "        self.__year = year #__ is given to hide it from users\n",
    "        self.__make = make\n",
    "        self.__model = model\n",
    "        self.__speed = 0\n",
    "    def set_speed(self,speed):\n",
    "        self.__speed = 0 if speed<0 else speed\n",
    "    def get_speed(self):\n",
    "        return self.__speed\n",
    "objc = car(2019,\"BMW\",\"X4\",12)\n",
    "objc.get_speed()"
   ]
  },
  {
   "cell_type": "markdown",
   "id": "43ed4732-d5cc-4785-833c-50d320a62f7b",
   "metadata": {},
   "source": [
    "# Q3. What is abc module in python? Why is it used? "
   ]
  },
  {
   "cell_type": "markdown",
   "id": "d2a84610-32c2-4156-aa3f-0f554944c0cd",
   "metadata": {},
   "source": [
    "\"abc\" module provides the infrastructure for defining abstract base classes (ABCs) in Python"
   ]
  },
  {
   "cell_type": "markdown",
   "id": "870642f1-6255-4dff-987d-7e9498c8a8b8",
   "metadata": {},
   "source": [
    "'It' is used when there is no need to point because it has already been established what thing or person is being talked about"
   ]
  },
  {
   "cell_type": "markdown",
   "id": "6dba57c1-bb8b-4551-9402-e9cc2acc8be0",
   "metadata": {},
   "source": [
    "# Q4. How can we achieve data abstraction?"
   ]
  },
  {
   "cell_type": "markdown",
   "id": "0346c2e7-651c-49e6-8040-c0253e2d5d2a",
   "metadata": {},
   "source": [
    "Data abstraction is a method where essential elements are displayed to the user and trivial elements are kept hidden. In Java, abstraction is achieved by using the abstract keyword for classes and interfaces. In abstract classes, we can have abstract methods as well as concrete methods."
   ]
  },
  {
   "cell_type": "markdown",
   "id": "68fe45ca-be92-4b96-9675-c6813a5a0e70",
   "metadata": {},
   "source": [
    "# Q5. Can we create an instance of an abstract class? Explain your answer."
   ]
  },
  {
   "cell_type": "markdown",
   "id": "aeb9a531-9444-4bc5-9faa-c9a92e9b4de8",
   "metadata": {},
   "source": [
    "No we cannot create an instance of an abstract class.\n",
    "As it is abstract, it is not complete, hence it cannot be used."
   ]
  },
  {
   "cell_type": "code",
   "execution_count": null,
   "id": "e4eb5535-2230-4776-a175-762de1ae2cab",
   "metadata": {},
   "outputs": [],
   "source": []
  }
 ],
 "metadata": {
  "kernelspec": {
   "display_name": "Python 3 (ipykernel)",
   "language": "python",
   "name": "python3"
  },
  "language_info": {
   "codemirror_mode": {
    "name": "ipython",
    "version": 3
   },
   "file_extension": ".py",
   "mimetype": "text/x-python",
   "name": "python",
   "nbconvert_exporter": "python",
   "pygments_lexer": "ipython3",
   "version": "3.10.8"
  }
 },
 "nbformat": 4,
 "nbformat_minor": 5
}
