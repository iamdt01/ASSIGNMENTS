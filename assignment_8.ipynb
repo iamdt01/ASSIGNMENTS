{
 "cells": [
  {
   "cell_type": "markdown",
   "id": "8da87905-760c-4cc7-8d9c-7968107f7290",
   "metadata": {},
   "source": [
    "# Q1. You are writing code for a company. The requirement of the company is that you create a pythonfunction that will check whether the password entered by the user is correct or not. The function shouldtake the password as input and return the string “Valid Password” if the entered password follows thebelow-given password guidelines else it should return “Invalid Password”.\n",
    "# Note: 1. The Password should contain at least two uppercase letters and at least two lowercase letters.\n",
    "# 2. The Password should contain at least a number and three special characters.\n",
    "# 3. The length of the password should be 10 characters long."
   ]
  },
  {
   "cell_type": "code",
   "execution_count": 8,
   "id": "22897680-6d49-4792-acf5-b2a667fc5846",
   "metadata": {},
   "outputs": [
    {
     "name": "stdin",
     "output_type": "stream",
     "text": [
      "Enter your password =  abc\n"
     ]
    },
    {
     "data": {
      "text/plain": [
       "'Invalid Password'"
      ]
     },
     "execution_count": 8,
     "metadata": {},
     "output_type": "execute_result"
    }
   ],
   "source": [
    "def qs1(pas):\n",
    "    w,x,y,z=0,0,0,0\n",
    "    if len(pas) == 10:\n",
    "        for i in pas:\n",
    "            if i.isupper():\n",
    "                w+=1\n",
    "            elif i.islower():\n",
    "                x+=1\n",
    "            elif i.isdigit():\n",
    "                y+=1\n",
    "            else:\n",
    "                z+=1\n",
    "        if w>=2 and x>=2 and y>=1 and z==3:\n",
    "            return \"Valid Password\"\n",
    "        else:\n",
    "            return \"Invalid Password\"\n",
    "    else:\n",
    "        return \"Invalid Password\"\n",
    "p = input(\"Enter your password = \")\n",
    "qs1(p)"
   ]
  },
  {
   "cell_type": "markdown",
   "id": "5fb4920a-9a5a-4804-9055-0f8a1dbc7e08",
   "metadata": {},
   "source": [
    "# Q2. Solve the below-given questions using at least one of the following:\n",
    "# 1. Lambda function\n",
    "# 2. Filter function\n",
    "# 3. Map function\n",
    "# 4. List Comprehension\n",
    "# Check if the string starts with a particular letter\n",
    "# Check if the string is numeric\n",
    "# Sort a list of tuples having fruit names and their quantity. [(\"mango\",99), (\"orange\",80), (\"grapes\", 1000)]\n",
    "# Find the squares of numbers from 1 to 10Y\n",
    "# Find the cube root of numbers from 1 to 10Y\n",
    "# Check if a given number is evenY\n",
    "# Filter odd numbers from the given list.\n",
    "# [1,2,3,4,5,6,7,8,9,10-\n",
    "# Sort a list of integers into positive and negative integers lists.\n",
    "# [1,2,3,4,5,6,-1,-2,-3,-4,-5,0]"
   ]
  },
  {
   "cell_type": "code",
   "execution_count": 16,
   "id": "5ec9a5f3-5582-4095-8aa4-d66b1012870e",
   "metadata": {},
   "outputs": [
    {
     "name": "stdin",
     "output_type": "stream",
     "text": [
      "Enter a string =  abc\n"
     ]
    },
    {
     "data": {
      "text/plain": [
       "True"
      ]
     },
     "execution_count": 16,
     "metadata": {},
     "output_type": "execute_result"
    }
   ],
   "source": [
    "#1\n",
    "y = lambda x:True if x[0] == \"a\" else False\n",
    "x = input(\"Enter a string = \")\n",
    "y(x)"
   ]
  },
  {
   "cell_type": "code",
   "execution_count": 34,
   "id": "97748d87-1203-426f-8ded-3b5eac89e77b",
   "metadata": {},
   "outputs": [
    {
     "name": "stdin",
     "output_type": "stream",
     "text": [
      "Enter a string =  12345\n"
     ]
    },
    {
     "data": {
      "text/plain": [
       "True"
      ]
     },
     "execution_count": 34,
     "metadata": {},
     "output_type": "execute_result"
    }
   ],
   "source": [
    "#2\n",
    "x = input(\"Enter a string = \")\n",
    "y =True if x.isdigit() else False\n",
    "y"
   ]
  },
  {
   "cell_type": "code",
   "execution_count": 39,
   "id": "dada1ed7-788f-46ed-a0fe-b61d1a8b2cdc",
   "metadata": {},
   "outputs": [
    {
     "name": "stdout",
     "output_type": "stream",
     "text": [
      "Sorted according to names =  [('grapes', 1000), ('mango', 99), ('orange', 80)]\n",
      "Sorted according to quantity =  [('orange', 80), ('mango', 99), ('grapes', 1000)]\n"
     ]
    }
   ],
   "source": [
    "#3\n",
    "li = [(\"mango\",99),(\"orange\",80),(\"grapes\",1000)]\n",
    "li.sort()\n",
    "print(\"Sorted according to names = \",li)\n",
    "li.sort(key = lambda i:i[1])\n",
    "print(\"Sorted according to quantity = \",li)"
   ]
  },
  {
   "cell_type": "code",
   "execution_count": 40,
   "id": "1af17d0a-bee8-4ece-93fc-0ff5094f4e28",
   "metadata": {},
   "outputs": [
    {
     "name": "stdout",
     "output_type": "stream",
     "text": [
      "[1, 4, 9, 16, 25, 36, 49, 64, 81, 100]\n"
     ]
    }
   ],
   "source": [
    "#4\n",
    "x = list(map(lambda x:x**2,list(range(1,11))))\n",
    "print(x)"
   ]
  },
  {
   "cell_type": "code",
   "execution_count": 41,
   "id": "13cf6a74-827d-4cd3-8af1-12c17102339c",
   "metadata": {},
   "outputs": [
    {
     "name": "stdout",
     "output_type": "stream",
     "text": [
      "[1.0, 1.2599210498948732, 1.4422495703074083, 1.5874010519681994, 1.7099759466766968, 1.8171205928321397, 1.912931182772389, 2.0, 2.080083823051904, 2.154434690031884]\n"
     ]
    }
   ],
   "source": [
    "#5\n",
    "x = list(map(lambda x:x**(1/3),list(range(1,11))))\n",
    "print(x)"
   ]
  },
  {
   "cell_type": "code",
   "execution_count": 44,
   "id": "16116fb1-a0c8-4085-a698-f875ad5109ac",
   "metadata": {},
   "outputs": [
    {
     "name": "stdin",
     "output_type": "stream",
     "text": [
      "Enter a number =  8\n"
     ]
    },
    {
     "name": "stdout",
     "output_type": "stream",
     "text": [
      "Even\n"
     ]
    }
   ],
   "source": [
    "#6\n",
    "x = (int)(input(\"Enter a number = \"))\n",
    "y = lambda x: \"Even\" if x%2==0 else \"Odd\"\n",
    "print(y(x))"
   ]
  },
  {
   "cell_type": "code",
   "execution_count": 46,
   "id": "06efce6b-b501-45a5-a6af-4259dc316822",
   "metadata": {},
   "outputs": [
    {
     "data": {
      "text/plain": [
       "[1, 3, 5, 7, 9]"
      ]
     },
     "execution_count": 46,
     "metadata": {},
     "output_type": "execute_result"
    }
   ],
   "source": [
    "#7\n",
    "l=[1,2,3,4,5,6,7,8,9,10]\n",
    "y=list(filter(lambda x: x%2!=0, l))\n",
    "y"
   ]
  },
  {
   "cell_type": "code",
   "execution_count": 51,
   "id": "64bc3154-1af2-4de4-8819-a2ae72db9d53",
   "metadata": {},
   "outputs": [
    {
     "name": "stdout",
     "output_type": "stream",
     "text": [
      "Positive integer list =  [0, 1, 2, 3, 4, 5, 6]\n",
      "Negative integer list =  [-5, -4, -3, -2, -1]\n"
     ]
    }
   ],
   "source": [
    "#8\n",
    "l1 = [1,2,3,4,5,6,-1,-2,-3,-4,-5,0]\n",
    "y= list(filter(lambda x: x>=0,l1))\n",
    "z = list(filter(lambda x : x<0,l1))\n",
    "y.sort()\n",
    "z.sort()\n",
    "print(\"Positive integer list = \",y)\n",
    "print(\"Negative integer list = \",z)"
   ]
  }
 ],
 "metadata": {
  "kernelspec": {
   "display_name": "Python 3 (ipykernel)",
   "language": "python",
   "name": "python3"
  },
  "language_info": {
   "codemirror_mode": {
    "name": "ipython",
    "version": 3
   },
   "file_extension": ".py",
   "mimetype": "text/x-python",
   "name": "python",
   "nbconvert_exporter": "python",
   "pygments_lexer": "ipython3",
   "version": "3.10.8"
  }
 },
 "nbformat": 4,
 "nbformat_minor": 5
}
