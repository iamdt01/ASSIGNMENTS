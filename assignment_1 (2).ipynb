{
 "cells": [
  {
   "cell_type": "markdown",
   "id": "deb3e890-e33e-4db4-8e7d-2b786ec16244",
   "metadata": {},
   "source": [
    "# 1.Who developed Python programming Language?"
   ]
  },
  {
   "cell_type": "markdown",
   "id": "1afae0de-0db3-48f4-8263-014f9a58ddec",
   "metadata": {},
   "source": [
    "# Guido van Rossum"
   ]
  },
  {
   "cell_type": "markdown",
   "id": "46e14f08-de2e-4142-b859-671a3d5bb34c",
   "metadata": {},
   "source": [
    "# 2.Which type of Programming does Python support?"
   ]
  },
  {
   "cell_type": "markdown",
   "id": "b742aeb6-6654-4739-9b6d-65c6b0406277",
   "metadata": {},
   "source": [
    "# Object-oriented programming and structured programming are supported in Python"
   ]
  },
  {
   "cell_type": "markdown",
   "id": "0607bb06-258b-4aff-93bc-186de67c21e9",
   "metadata": {},
   "source": [
    "# 3. Is Python case sensitive when dealing with identifiers?"
   ]
  },
  {
   "cell_type": "markdown",
   "id": "31ac1f4c-72f0-4eba-8816-40f7b0f67536",
   "metadata": {},
   "source": [
    "# Yes, Python is a case sensitive language"
   ]
  },
  {
   "cell_type": "markdown",
   "id": "562be693-1b18-498f-9b39-7d41588e409d",
   "metadata": {},
   "source": [
    "# 4. What is the correct extension of the Python file?"
   ]
  },
  {
   "cell_type": "markdown",
   "id": "5bdd6e53-66e7-476b-b8a3-ffef46f42c77",
   "metadata": {},
   "source": [
    "# \".py\" is the correct extension of the Python file."
   ]
  },
  {
   "cell_type": "markdown",
   "id": "a8ea98a0-9cc4-4eb7-ac06-dae4498d2dd1",
   "metadata": {},
   "source": [
    "# 5. Is Python code compiled or interpreted?"
   ]
  },
  {
   "cell_type": "markdown",
   "id": "bc05a627-89b6-4f3b-be7b-6f49bb513085",
   "metadata": {},
   "source": [
    "# Interpreted"
   ]
  },
  {
   "cell_type": "markdown",
   "id": "62b9c08c-7635-4476-ba88-eab29d4b1e5c",
   "metadata": {},
   "source": [
    "# 6. Name a few blocks of code used to define in Python language?"
   ]
  },
  {
   "cell_type": "markdown",
   "id": "a063e071-650b-4930-900a-a4104d8ac7e9",
   "metadata": {},
   "source": [
    "# Module,Class,Package,Function etc."
   ]
  },
  {
   "cell_type": "markdown",
   "id": "59bb21f2-a099-42e9-8da2-1a450c7b8e8b",
   "metadata": {},
   "source": [
    "# 7. State a character used to give single line comments in Python?"
   ]
  },
  {
   "cell_type": "markdown",
   "id": "efb53164-a19d-419f-8786-2c3c4c8ba0c1",
   "metadata": {},
   "source": [
    "# \"#\""
   ]
  },
  {
   "cell_type": "markdown",
   "id": "11fe4a99-7c64-46be-8ed3-0b4ad1e41d8e",
   "metadata": {},
   "source": [
    "# 8. Mention functions which can help us to find the version of Python that we are currently working on ?"
   ]
  },
  {
   "cell_type": "markdown",
   "id": "b7d59f20-9a3c-4be2-aa18-9ecc77bff785",
   "metadata": {},
   "source": [
    "# sys.version, python_version(), python -V"
   ]
  },
  {
   "cell_type": "markdown",
   "id": "df2970ca-b671-468c-a0d2-1620d7e1e20e",
   "metadata": {},
   "source": [
    "# 9. Python supports the creation of anonymous functions at runtime, using a construct called ______."
   ]
  },
  {
   "cell_type": "markdown",
   "id": "fd203396-8d71-41c8-bb7b-7e49d120760e",
   "metadata": {},
   "source": [
    "# lambda"
   ]
  },
  {
   "cell_type": "markdown",
   "id": "65f75d65-853e-42cc-82ee-f303bdb9e6ae",
   "metadata": {},
   "source": [
    "# 10. What does pip stand for python?"
   ]
  },
  {
   "cell_type": "markdown",
   "id": "6cde34f7-80f2-498a-a48c-ab87b52ad2eb",
   "metadata": {},
   "source": [
    "# Preferred installer program"
   ]
  },
  {
   "cell_type": "markdown",
   "id": "d37b294c-f2d7-4ad9-ba0a-dc1c75c7b93d",
   "metadata": {},
   "source": [
    "# 11. Mention a few built-in functions in python?"
   ]
  },
  {
   "cell_type": "markdown",
   "id": "852bf8d6-8240-4c74-a04f-5139468a1fae",
   "metadata": {},
   "source": [
    "# print(), input(), type(),len(), min(), max(), sum() etc."
   ]
  },
  {
   "cell_type": "markdown",
   "id": "83d00d5e-2741-4318-b125-9b948107eadd",
   "metadata": {},
   "source": [
    "# 12. What is the maximum possible length of an identifier in Python?"
   ]
  },
  {
   "cell_type": "markdown",
   "id": "46378ca5-ece0-4b91-aafd-92f17a41d3df",
   "metadata": {},
   "source": [
    "# 79"
   ]
  },
  {
   "cell_type": "markdown",
   "id": "b2d6ae35-c283-46a0-a1a3-a34e9088a549",
   "metadata": {},
   "source": [
    "# 13. What are the benefits of using Python?"
   ]
  },
  {
   "cell_type": "markdown",
   "id": "49bf2d5b-acf4-4275-a1f2-9cf675926e77",
   "metadata": {},
   "source": [
    "# The benefits of using Python for developing websites and software, task automation, data analysis, data science, and data visualization"
   ]
  },
  {
   "cell_type": "markdown",
   "id": "8bdc4aeb-ea48-4b4d-a0da-6667d787c36e",
   "metadata": {},
   "source": [
    "# 14. How is memory managed in Python?"
   ]
  },
  {
   "cell_type": "markdown",
   "id": "7d24923c-7575-4c89-a10b-d976ad4d47f4",
   "metadata": {},
   "source": [
    "# Memory management in Python involves a private heap containing all Python objects and data structures. The management of this private heap is ensured internally by the Python memory manager."
   ]
  },
  {
   "cell_type": "markdown",
   "id": "fa3b92b4-9b68-47fc-84fe-cb6993aec43e",
   "metadata": {},
   "source": [
    "# 15. How to install Python om windows and set path variables?"
   ]
  },
  {
   "cell_type": "markdown",
   "id": "3256e6d8-5443-4502-9de3-27792a78200a",
   "metadata": {},
   "source": [
    "# We need to download the latest version of Python from Python.org and install it. While installing there is a check box saying \"ADD PYTHON TO PATH\", through which the path can be added."
   ]
  },
  {
   "cell_type": "markdown",
   "id": "34b582db-f107-4682-807a-b68efa500be6",
   "metadata": {},
   "source": [
    "# 16. Is identation required in Python?"
   ]
  },
  {
   "cell_type": "markdown",
   "id": "867205ef-6510-41c0-84aa-f4997d0b9f90",
   "metadata": {},
   "source": [
    "# Yes , Identation is required in Python"
   ]
  }
 ],
 "metadata": {
  "kernelspec": {
   "display_name": "Python 3 (ipykernel)",
   "language": "python",
   "name": "python3"
  },
  "language_info": {
   "codemirror_mode": {
    "name": "ipython",
    "version": 3
   },
   "file_extension": ".py",
   "mimetype": "text/x-python",
   "name": "python",
   "nbconvert_exporter": "python",
   "pygments_lexer": "ipython3",
   "version": "3.10.8"
  }
 },
 "nbformat": 4,
 "nbformat_minor": 5
}
