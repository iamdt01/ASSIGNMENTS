{
 "cells": [
  {
   "cell_type": "markdown",
   "id": "fb11e71a-66dd-4e37-a596-be50f10628f3",
   "metadata": {},
   "source": [
    "# Q1, Create a vehicle class with an init method having instance variables as name_of_vehicle, max_speed and average_of_vehicle."
   ]
  },
  {
   "cell_type": "code",
   "execution_count": 1,
   "id": "86d73722-b9d9-46c8-899b-2ce9aaf6bfe6",
   "metadata": {},
   "outputs": [],
   "source": [
    "class vehicle:\n",
    "    def __init__(self,name_of_vehicle,max_speed,average_of_vehicle):\n",
    "        self.name_of_vehicle = name_of_vehicle\n",
    "        self.max_speed = max_speed\n",
    "        self.average_of_vehicle = average_of_vehicle"
   ]
  },
  {
   "cell_type": "markdown",
   "id": "ac593580-7612-4f42-bed4-d2c6adce7c5c",
   "metadata": {},
   "source": [
    "# Q2. Create a child class car from the vehicle class created in Que 1, which will inherit the vehicle class. Create a method named seating_capacity which takes capacity as an argument and returns the name of the vehicle and its seating capacity."
   ]
  },
  {
   "cell_type": "code",
   "execution_count": 2,
   "id": "e6ffc0eb-180f-453e-ba7d-8bb807f9361f",
   "metadata": {},
   "outputs": [],
   "source": [
    "class car(vehicle):\n",
    "    def seating_capacity(self,capacity):\n",
    "        self.capacity = capacity\n",
    "        return self.name_of_vehicle,self.capacity"
   ]
  },
  {
   "cell_type": "markdown",
   "id": "e9d04f74-25a7-4a2f-b0b0-90577df12f6f",
   "metadata": {},
   "source": [
    "# Q3. What is multiple inheritance? Write a python code to demonstrate multiple inheritance."
   ]
  },
  {
   "cell_type": "markdown",
   "id": "0299d061-201c-4ca5-973d-8cd195900252",
   "metadata": {},
   "source": [
    "Multiple inheritance means a single child class inheriting the features of different parents ata the same time."
   ]
  },
  {
   "cell_type": "code",
   "execution_count": 4,
   "id": "20663c92-f796-4c86-9e2b-a03c7676497e",
   "metadata": {},
   "outputs": [
    {
     "name": "stdout",
     "output_type": "stream",
     "text": [
      "This is the method of first class\n",
      "This is the method of second class\n",
      "This is the method of third class\n"
     ]
    }
   ],
   "source": [
    "class a:\n",
    "    def a1(self):\n",
    "        return \"This is the method of first class\"\n",
    "class b:\n",
    "    def b1(self):\n",
    "        return \"This is the method of second class\"\n",
    "class c:\n",
    "    def c1(self):\n",
    "        return \"This is the method of third class\"\n",
    "class d(a,b,c):\n",
    "    pass\n",
    "obj = d()\n",
    "print(obj.a1())\n",
    "print(obj.b1())\n",
    "print(obj.c1())"
   ]
  },
  {
   "cell_type": "markdown",
   "id": "0929d709-f369-4ac5-9496-dfbbe3fb5600",
   "metadata": {},
   "source": [
    "# Q4. What are getter and setter in python? Create a class and create a getter and a setter method in this class."
   ]
  },
  {
   "cell_type": "markdown",
   "id": "3d250c3a-6bf5-41d9-a377-fc454a6ca64f",
   "metadata": {},
   "source": [
    "Getter: A method that allows you to access an attribute in a given class.\n",
    "Setter: A method that allows you to set or mutate the value of an attribute in a class."
   ]
  },
  {
   "cell_type": "code",
   "execution_count": 5,
   "id": "7af0ba29-93ec-49db-8148-e7e682fe1850",
   "metadata": {},
   "outputs": [],
   "source": [
    "class a:\n",
    "    def __init__(self,a,b):\n",
    "        self.__a = a\n",
    "        self.__b = b\n",
    "    def set_ab(self,x,y):\n",
    "        self.__a = x\n",
    "        self.__b = y\n",
    "    def get_ab(self):\n",
    "        return self.__a+self.__b"
   ]
  },
  {
   "cell_type": "markdown",
   "id": "8a760330-7e5c-458b-bad0-d2348fd76233",
   "metadata": {},
   "source": [
    "# Q5.What is method overriding in python? Write a python code to demonstrate method overriding."
   ]
  },
  {
   "cell_type": "markdown",
   "id": "0a617ec2-5df4-4b14-ba1b-0178182a9da6",
   "metadata": {},
   "source": [
    "Method overriding is a feature of object-oriented programming languages where the subclass or child class can provide the program with specific characteristics or a specific implementation process of data provided that are already defined in the parent class or superclass."
   ]
  },
  {
   "cell_type": "code",
   "execution_count": 6,
   "id": "81488568-60a6-4aa6-b5ef-57022b243a21",
   "metadata": {},
   "outputs": [
    {
     "name": "stdout",
     "output_type": "stream",
     "text": [
      "Inside super class\n",
      "Inside child class\n"
     ]
    }
   ],
   "source": [
    "class a:\n",
    "    def show(self):\n",
    "        return \"Inside super class\"\n",
    "class b:\n",
    "    def show(self):\n",
    "        return \"Inside child class\"\n",
    "ob1 = a()\n",
    "ob2 = b()\n",
    "print(ob1.show())\n",
    "print(ob2.show())"
   ]
  },
  {
   "cell_type": "code",
   "execution_count": null,
   "id": "8b142bef-17fb-4ca3-87ad-3e5441dbd56d",
   "metadata": {},
   "outputs": [],
   "source": []
  }
 ],
 "metadata": {
  "kernelspec": {
   "display_name": "Python 3 (ipykernel)",
   "language": "python",
   "name": "python3"
  },
  "language_info": {
   "codemirror_mode": {
    "name": "ipython",
    "version": 3
   },
   "file_extension": ".py",
   "mimetype": "text/x-python",
   "name": "python",
   "nbconvert_exporter": "python",
   "pygments_lexer": "ipython3",
   "version": "3.10.8"
  }
 },
 "nbformat": 4,
 "nbformat_minor": 5
}
