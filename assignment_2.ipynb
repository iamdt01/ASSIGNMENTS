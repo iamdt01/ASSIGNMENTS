{
 "cells": [
  {
   "cell_type": "markdown",
   "id": "c13af4b8-5186-4ff1-a197-c326c65b4bf7",
   "metadata": {},
   "source": [
    "# 1. Write a program to accept percentage from the user and display the grade according to the following criteria: \n",
    "# Marks Grade \n",
    "# >90    A \n",
    "# >80 and <=90  B \n",
    "# >=60 and <=80  C \n",
    "# below 60  D "
   ]
  },
  {
   "cell_type": "code",
   "execution_count": 1,
   "id": "74531cc3-15f1-4de9-b97d-1e4b6736509a",
   "metadata": {},
   "outputs": [
    {
     "name": "stdin",
     "output_type": "stream",
     "text": [
      "Enter your percentage =  99\n"
     ]
    },
    {
     "name": "stdout",
     "output_type": "stream",
     "text": [
      "A\n"
     ]
    }
   ],
   "source": [
    "n = (int)(input(\"Enter your percentage = \"))\n",
    "if n > 90:\n",
    "    print(\"A\")\n",
    "elif n > 80 and n <= 90:\n",
    "    print(\"B\")\n",
    "elif n >= 60 and n <= 80:\n",
    "    print(\"C\")\n",
    "else:\n",
    "    print(\"D\")"
   ]
  },
  {
   "cell_type": "markdown",
   "id": "e3116f57-720f-4329-aa06-19c31887a68f",
   "metadata": {},
   "source": [
    "# 2. Write a program to accept the cost price of a bike and display the road tax to be paid according to the following criteria: \n",
    "# Tax \n",
    "# 15% \n",
    "# 10% \n",
    "# 5% \n",
    "# Cost Price(in Rs) \n",
    "# >100000  \n",
    "# 50000 and <= 100000 \n",
    "# <= 50000 "
   ]
  },
  {
   "cell_type": "code",
   "execution_count": 2,
   "id": "3450e629-c792-4e24-b8ba-2da38fd5c51e",
   "metadata": {},
   "outputs": [
    {
     "name": "stdin",
     "output_type": "stream",
     "text": [
      "Enter the price of a bike =  100000\n"
     ]
    },
    {
     "name": "stdout",
     "output_type": "stream",
     "text": [
      "Road Tax = 10%\n"
     ]
    }
   ],
   "source": [
    "price = (int)(input(\"Enter the price of a bike = \"))\n",
    "if price > 100000:\n",
    "    print(\"Road Tax = 15%\")\n",
    "elif price > 50000 and price <= 100000:\n",
    "    print(\"Road Tax = 10%\")\n",
    "elif price <= 50000:\n",
    "    print(\"Road Tax = 5%\")"
   ]
  },
  {
   "cell_type": "markdown",
   "id": "600cf56c-48b4-47ce-a7b1-90a43dd76f21",
   "metadata": {},
   "source": [
    "# 3. Accept any city from the user and display monuments of that city. \n",
    "# City  Monument \n",
    "# Delhi  Red Fort\n",
    "# Taj Mahal Agra \n",
    "# Jaipur  Jal Mahal \n"
   ]
  },
  {
   "cell_type": "code",
   "execution_count": 3,
   "id": "dc7c9710-77de-4e1c-883a-3f46d1f1e25b",
   "metadata": {},
   "outputs": [
    {
     "name": "stdin",
     "output_type": "stream",
     "text": [
      "Enter a city =  Delhi\n"
     ]
    },
    {
     "name": "stdout",
     "output_type": "stream",
     "text": [
      "Red Fort\n"
     ]
    }
   ],
   "source": [
    "city = input(\"Enter a city = \")\n",
    "if city.lower() == \"delhi\":\n",
    "    print(\"Red Fort\")\n",
    "elif city.lower() == \"agra\":\n",
    "    print(\"Taj Mahal\")\n",
    "elif city.lower() == \"jaipur\":\n",
    "    print(\"Jal Mahal\")"
   ]
  },
  {
   "cell_type": "markdown",
   "id": "86a9cf83-9319-45d9-af72-0a71d8a60878",
   "metadata": {},
   "source": [
    "# 4. Check how many times a given number can be divided by 3 before it is less than or equal to 10. "
   ]
  },
  {
   "cell_type": "code",
   "execution_count": 1,
   "id": "4af4b55c-34f5-49b9-88c2-9ae444a9e17a",
   "metadata": {},
   "outputs": [
    {
     "name": "stdin",
     "output_type": "stream",
     "text": [
      "Enter a number =  123\n"
     ]
    },
    {
     "name": "stdout",
     "output_type": "stream",
     "text": [
      "3\n"
     ]
    }
   ],
   "source": [
    "n = (int)(input(\"Enter a number = \"))\n",
    "c = 0\n",
    "while True:\n",
    "    if n <= 10:\n",
    "        break\n",
    "    elif n//3:\n",
    "        c=c+1\n",
    "        n=n//3\n",
    "print(c)"
   ]
  },
  {
   "cell_type": "markdown",
   "id": "7fafb7c0-93e7-4100-b0dc-5492f0a1f249",
   "metadata": {},
   "source": [
    "# 5. Why and When to Use while Loop in Python give a detailed description with example "
   ]
  },
  {
   "cell_type": "code",
   "execution_count": 2,
   "id": "495279b4-6c7d-48cc-9307-e97b908d4ad0",
   "metadata": {},
   "outputs": [
    {
     "name": "stdin",
     "output_type": "stream",
     "text": [
      "Enter a number =  123\n"
     ]
    },
    {
     "name": "stdout",
     "output_type": "stream",
     "text": [
      "3\n"
     ]
    }
   ],
   "source": [
    "\"\"\"Python while loop is used to run a block code until a certain condition is \n",
    "met.\"\"\"\n",
    "# to Check how many times a given number can be divided by 3 before it is less\n",
    "# than or equal to 10.\n",
    "n = (int)(input(\"Enter a number = \"))\n",
    "c = 0\n",
    "while True:\n",
    "    if n <= 10:\n",
    "        break\n",
    "    elif n//3:\n",
    "        c=c+1\n",
    "        n=n//3\n",
    "print(c)"
   ]
  },
  {
   "cell_type": "markdown",
   "id": "370f3220-f1a8-4d39-afcc-522b37b73f07",
   "metadata": {},
   "source": [
    "# 6. Use nested while loop to print 3 different pattern"
   ]
  },
  {
   "cell_type": "code",
   "execution_count": 7,
   "id": "4bf16732-61f6-4dfa-9147-a4fb1d3840ef",
   "metadata": {},
   "outputs": [
    {
     "name": "stdout",
     "output_type": "stream",
     "text": [
      "* $ # # # # $ $ $ * * * "
     ]
    }
   ],
   "source": [
    "x,y,z=5,5,5\n",
    "while x>1:\n",
    "    print(\"*\" , end =\" \")\n",
    "    x=x-1\n",
    "    while y>1:\n",
    "        print(\"$\" , end = \" \")\n",
    "        y=y-1\n",
    "        while z>1:\n",
    "            print(\"#\" , end =\" \")\n",
    "            z=z-1"
   ]
  },
  {
   "cell_type": "markdown",
   "id": "75c88096-1f0e-4714-b243-f0dfbbc31dcd",
   "metadata": {},
   "source": [
    "# 7. Reverse a while loop to display numbers from 10 to 1."
   ]
  },
  {
   "cell_type": "code",
   "execution_count": 8,
   "id": "addbdb1b-b440-400e-9552-8d24e1f993bb",
   "metadata": {},
   "outputs": [
    {
     "name": "stdout",
     "output_type": "stream",
     "text": [
      "10 9 8 7 6 5 4 3 2 1 "
     ]
    }
   ],
   "source": [
    "x=10\n",
    "while x>0:\n",
    "    print(x,end=\" \")\n",
    "    x=x-1"
   ]
  },
  {
   "cell_type": "markdown",
   "id": "e68d4ed4-da97-464f-8a9d-3e1efdf82915",
   "metadata": {},
   "source": [
    "# 8. Reverse a while loop to display numbers from 10 to 1 "
   ]
  },
  {
   "cell_type": "code",
   "execution_count": 9,
   "id": "b82a43c5-3dff-4db4-950f-a98750848fec",
   "metadata": {},
   "outputs": [
    {
     "name": "stdout",
     "output_type": "stream",
     "text": [
      "10 9 8 7 6 5 4 3 2 1 "
     ]
    }
   ],
   "source": [
    "x=10\n",
    "while x>0:\n",
    "    print(x,end=\" \")\n",
    "    x=x-1"
   ]
  }
 ],
 "metadata": {
  "kernelspec": {
   "display_name": "Python 3 (ipykernel)",
   "language": "python",
   "name": "python3"
  },
  "language_info": {
   "codemirror_mode": {
    "name": "ipython",
    "version": 3
   },
   "file_extension": ".py",
   "mimetype": "text/x-python",
   "name": "python",
   "nbconvert_exporter": "python",
   "pygments_lexer": "ipython3",
   "version": "3.10.8"
  }
 },
 "nbformat": 4,
 "nbformat_minor": 5
}
