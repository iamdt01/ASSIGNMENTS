{
 "cells": [
  {
   "cell_type": "markdown",
   "id": "37749a4a-103d-46ac-809e-1293ae18b2a1",
   "metadata": {},
   "source": [
    "# Q1. Explain Class and Object with respect to Object-Oriented Programming. Give a suitable example."
   ]
  },
  {
   "cell_type": "markdown",
   "id": "b5f4836c-a3ac-423e-be30-50032883d163",
   "metadata": {},
   "source": [
    "Class: It is blueprint or structure to be followed.\n",
    "object: I is the real world entity.\n",
    "object is formed when it is assigned to the class."
   ]
  },
  {
   "cell_type": "code",
   "execution_count": 47,
   "id": "68d19ccf-4bd0-4010-94bc-874c348752b9",
   "metadata": {},
   "outputs": [],
   "source": [
    "#It is an example of class\n",
    "class dt:\n",
    "    def __init__(self,x,y):\n",
    "        self.x=x\n",
    "        self.y=y\n",
    "    def s(self):\n",
    "        return self.x+self.y"
   ]
  },
  {
   "cell_type": "code",
   "execution_count": 48,
   "id": "ffc673bf-c06b-4e69-9fbb-a6c18dd0d229",
   "metadata": {},
   "outputs": [],
   "source": [
    "#it is an example of object\n",
    "k = dt(2,5)"
   ]
  },
  {
   "cell_type": "code",
   "execution_count": 49,
   "id": "76eaaa88-4098-485c-822d-0c887f59a78e",
   "metadata": {},
   "outputs": [
    {
     "data": {
      "text/plain": [
       "7"
      ]
     },
     "execution_count": 49,
     "metadata": {},
     "output_type": "execute_result"
    }
   ],
   "source": [
    "k.s()"
   ]
  },
  {
   "cell_type": "markdown",
   "id": "3e4d1d3d-7dbe-405e-b2ba-fb527ced406d",
   "metadata": {},
   "source": [
    "# Q2. Name the four pillars of OOPs."
   ]
  },
  {
   "cell_type": "markdown",
   "id": "ab131c2f-ca3d-4fd9-ae5f-f3dd3b45b616",
   "metadata": {},
   "source": [
    "Abstraction,\n",
    "Encapsulation,\n",
    "Polymorphism,\n",
    "Inheritance"
   ]
  },
  {
   "cell_type": "markdown",
   "id": "dc97a117-74c1-4be3-928f-fe64b4ecb6ed",
   "metadata": {},
   "source": [
    "# Q3. Explain why the __init__() function is used. Give a suitable example."
   ]
  },
  {
   "cell_type": "markdown",
   "id": "66e4874e-7fde-4865-875d-ebaff3a0672c",
   "metadata": {},
   "source": [
    "__init__() is a constructor which helps in passing parameters to the class and accessing them for different objects."
   ]
  },
  {
   "cell_type": "code",
   "execution_count": 51,
   "id": "aac7ee94-732a-4dfb-a11f-f19632e2f286",
   "metadata": {},
   "outputs": [],
   "source": [
    "class dt:\n",
    "    def __init__(self,x,y):\n",
    "        self.x=x\n",
    "        self.y=y\n",
    "    def s(self):\n",
    "        return self.x+self.y"
   ]
  },
  {
   "cell_type": "markdown",
   "id": "6d7a9b55-857f-4bdd-a611-4f50f513b292",
   "metadata": {},
   "source": [
    "# Q4. Why self is used in OOPs?"
   ]
  },
  {
   "cell_type": "markdown",
   "id": "61610d6a-60ce-43bd-8132-387352a12988",
   "metadata": {},
   "source": [
    "self in't a keyword. We can use different variable in place of self.\n",
    "It is used to access the values passed in as parameters and help them to store in the constructor defined variables."
   ]
  },
  {
   "cell_type": "markdown",
   "id": "95c24fba-9d2d-4447-be6f-14e8d0784482",
   "metadata": {},
   "source": [
    "# Q5. What is inheritance? Give an example for each type of inheritance. "
   ]
  },
  {
   "cell_type": "markdown",
   "id": "b7bbcfa3-fdf2-4f6a-81d5-555e3a0f3fe9",
   "metadata": {},
   "source": [
    "Inheritance is a mechanism of acquiring the features and behaviors of a class by another class.\n",
    "Types of Interitance: single, Multiple, Multilevel, Hybrid"
   ]
  }
 ],
 "metadata": {
  "kernelspec": {
   "display_name": "Python 3 (ipykernel)",
   "language": "python",
   "name": "python3"
  },
  "language_info": {
   "codemirror_mode": {
    "name": "ipython",
    "version": 3
   },
   "file_extension": ".py",
   "mimetype": "text/x-python",
   "name": "python",
   "nbconvert_exporter": "python",
   "pygments_lexer": "ipython3",
   "version": "3.10.8"
  }
 },
 "nbformat": 4,
 "nbformat_minor": 5
}
