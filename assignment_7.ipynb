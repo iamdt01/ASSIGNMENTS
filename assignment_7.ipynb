{
 "cells": [
  {
   "cell_type": "markdown",
   "id": "3c456afc-ca81-4ae3-a272-c65530f2fc6f",
   "metadata": {},
   "source": [
    "# Q1. Create a function which will take a list as an argument and return the product of all the numbers after creating a flat list. Use the below-given list as an argument for your function.\n",
    "# list1 = [1,2,3,4, [44,55,66, True], False, (34,56,78,89,34), {1,2,3,3,2,1}, {1:34, \"key2\": [55, 67, 78, 89], 4: (45,22, 61, 34)}, [56, 'data science'], 'Machine Learning']"
   ]
  },
  {
   "cell_type": "code",
   "execution_count": 3,
   "id": "832b7647-3363-4beb-9e55-a2cce9ab5335",
   "metadata": {},
   "outputs": [
    {
     "data": {
      "text/plain": [
       "0"
      ]
     },
     "execution_count": 3,
     "metadata": {},
     "output_type": "execute_result"
    }
   ],
   "source": [
    "list1 = [1,2,3,4, [44,55,66, True], False, (34,56,78,89,34), {1,2,3,3,2,1}, \n",
    "         {1:34, \"key2\": [55,67, 78, 89], 4: (45,22, 61, 34)}, \n",
    "         [56, 'data science'], 'Machine Learning']\n",
    "def func(x):\n",
    "    s = 1\n",
    "    for i in x:\n",
    "        if i == False:\n",
    "            s = 0\n",
    "        elif type(i) == int:\n",
    "            s = s*i\n",
    "        elif type(i) == list:\n",
    "            s = s*func(i)\n",
    "        elif type(i) == bool:\n",
    "            s = s*i\n",
    "        elif type(i) == tuple:\n",
    "            s = s *func(list(i))\n",
    "        elif type(i) == set:\n",
    "            s = s*func(list(i))\n",
    "        elif type(i) == dict:\n",
    "            s = s*func(list(i.items()))\n",
    "        else:\n",
    "            pass\n",
    "    return s\n",
    "qs1(list1)"
   ]
  },
  {
   "cell_type": "markdown",
   "id": "152e6bc2-9344-4c7b-8566-048786fcf003",
   "metadata": {},
   "source": [
    "# Q2. Write a python program for encrypting a message sent to you by your friend. The logic of encryption should be such that, for a the output should be z. For b, the output should be y. For c, the output should be x respectively. Also, the whitespace should be replaced with a dollar sign. Keep the punctuation marks unchanged.\n",
    "# Input Sentence: I want to become a Data Scientist."
   ]
  },
  {
   "cell_type": "code",
   "execution_count": 4,
   "id": "3568fe81-7f08-49f8-adf9-739f675ac808",
   "metadata": {},
   "outputs": [
    {
     "name": "stdin",
     "output_type": "stream",
     "text": [
      "Enter a string =  I want to become a Data Scientist\n"
     ]
    },
    {
     "name": "stdout",
     "output_type": "stream",
     "text": [
      "['I', 'want', 'to', 'become', 'a', 'Data', 'Scientist']\n",
      "r$dzmg$gl$yvxlnv$z$wzgz$hxrvmgrhg\n"
     ]
    }
   ],
   "source": [
    "s = input(\"Enter a string = \")\n",
    "s = s.split(\" \")\n",
    "print(s)\n",
    "x=\"\"\n",
    "d = {\"a\":\"z\",\"b\":\"y\",\"c\":\"x\",\"d\":\"w\",\"e\":\"v\",\"f\":\"u\",\"g\":\"t\",\"h\":\"s\",\"i\":\"r\",\n",
    "     \"j\":\"q\",\"k\":\"p\",\"l\":\"o\",\"m\":\"n\",\"n\":\"m\",\"o\":\"l\",\"p\":\"k\",\"q\":\"j\",\"r\":\"i\",\n",
    "     \"s\":\"h\",\"t\":\"g\",\"u\":\"f\",\"v\":\"e\",\"w\":\"d\",\"x\":\"c\",\"y\":\"b\",\"z\":\"a\"}\n",
    "for i in s:\n",
    "    i=i.lower()\n",
    "    for k in i:\n",
    "        for j in d:\n",
    "            if k == d[j]:\n",
    "                x = x+j\n",
    "    x = x+\"$\"\n",
    "print(x[0:-1])"
   ]
  }
 ],
 "metadata": {
  "kernelspec": {
   "display_name": "Python 3 (ipykernel)",
   "language": "python",
   "name": "python3"
  },
  "language_info": {
   "codemirror_mode": {
    "name": "ipython",
    "version": 3
   },
   "file_extension": ".py",
   "mimetype": "text/x-python",
   "name": "python",
   "nbconvert_exporter": "python",
   "pygments_lexer": "ipython3",
   "version": "3.10.8"
  }
 },
 "nbformat": 4,
 "nbformat_minor": 5
}
